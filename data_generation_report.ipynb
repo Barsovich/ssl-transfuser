{
 "cells": [
  {
   "cell_type": "code",
   "execution_count": 13,
   "metadata": {},
   "outputs": [
    {
     "name": "stdout",
     "output_type": "stream",
     "text": [
      "25\n",
      "1\n",
      "15\n",
      "129\n",
      "22\n",
      "289\n",
      "24\n",
      "160\n",
      "33\n",
      "0\n",
      "1\n",
      "3\n",
      "0\n",
      "0\n",
      "14\n",
      "13\n"
     ]
    }
   ],
   "source": [
    "from pathlib import Path\n",
    "base_path = Path(\"./data/\")\n",
    "subdirs = []\n",
    "\n",
    "for subdir in sorted(list(base_path.iterdir())):\n",
    "    # print(subdir)\n",
    "    short_routes = [dir for dir in subdir.iterdir() if \"short\" in dir.name]\n",
    "    tiny_routes = [dir for dir in subdir.iterdir() if \"tiny\" in dir.name]\n",
    "    # print(f\"Short routes: {len(short_routes)}\")\n",
    "    # print(f\"Tiny routes: {len(tiny_routes)}\")\n",
    "    # print(\"\\n\")\n",
    "    print(len(short_routes))\n",
    "    print(len(tiny_routes))"
   ]
  },
  {
   "cell_type": "code",
   "execution_count": null,
   "metadata": {},
   "outputs": [],
   "source": []
  }
 ],
 "metadata": {
  "interpreter": {
   "hash": "1badd7741ffcd6e855a1a9ae4a272b6c2f9765565a018952632054914934f501"
  },
  "kernelspec": {
   "display_name": "Python 3.7.13 ('transfuser')",
   "language": "python",
   "name": "python3"
  },
  "language_info": {
   "codemirror_mode": {
    "name": "ipython",
    "version": 3
   },
   "file_extension": ".py",
   "mimetype": "text/x-python",
   "name": "python",
   "nbconvert_exporter": "python",
   "pygments_lexer": "ipython3",
   "version": "3.7.13"
  },
  "orig_nbformat": 4
 },
 "nbformat": 4,
 "nbformat_minor": 2
}
